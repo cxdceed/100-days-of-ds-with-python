{
  "nbformat": 4,
  "nbformat_minor": 0,
  "metadata": {
    "colab": {
      "provenance": []
    },
    "kernelspec": {
      "name": "python3",
      "display_name": "Python 3"
    },
    "language_info": {
      "name": "python"
    }
  },
  "cells": [
    {
      "cell_type": "code",
      "execution_count": 2,
      "metadata": {
        "id": "AMVBj6Wpz7mM"
      },
      "outputs": [],
      "source": [
        "# Import the necessary Python libraries\n",
        "\n",
        "import pandas as pd"
      ]
    },
    {
      "cell_type": "code",
      "source": [
        "# The dataset\n",
        "\n",
        "data = pd.read_csv(\"/content/screentime_analysis.csv\")\n",
        "data.head()"
      ],
      "metadata": {
        "id": "W575ytL60iXb"
      },
      "execution_count": null,
      "outputs": []
    },
    {
      "cell_type": "code",
      "source": [
        "# Summary statistics\n",
        "\n",
        "data.describe()"
      ],
      "metadata": {
        "id": "qe1HqLSN0vSH"
      },
      "execution_count": null,
      "outputs": []
    },
    {
      "cell_type": "code",
      "source": [
        "# Analyze the screen time trends of all the apps in the data over time\n",
        "\n",
        "import matplotlib.pyplot as plt\n",
        "import seaborn as sns\n",
        "\n",
        "data['Date'] = pd.to_datetime(data['Date'])\n",
        "\n",
        "plt.figure(figsize=(12, 6))\n",
        "sns.lineplot(x='Date', y='Usage (minutes)', hue='App', data=data, marker=\"o\")\n",
        "plt.title('Screen Time Trends for Different Apps')\n",
        "plt.ylabel('Usage (minutes)')\n",
        "plt.xlabel('Date')\n",
        "plt.xticks(rotation=45)\n",
        "plt.tight_layout()\n",
        "plt.show()"
      ],
      "metadata": {
        "id": "2mXDTgRS01lf"
      },
      "execution_count": null,
      "outputs": []
    },
    {
      "cell_type": "code",
      "source": [
        "# Relationship between the screen time of the user, the number of notifications, and the number of times the user opened any app\n",
        "\n",
        "plt.figure(figsize=(8, 6))\n",
        "\n",
        "pairplot = sns.pairplot(\n",
        "    data[['Usage (minutes)', 'Notifications', 'Times Opened']],\n",
        "    kind=\"scatter\",\n",
        "    diag_kind=\"kde\",\n",
        "    plot_kws={'alpha':0.6, 's':50}\n",
        ")\n",
        "\n",
        "pairplot.fig.suptitle('Relationships between Screen Time, Notifications, and Times Opened', y=1.02, fontsize=14)\n",
        "\n",
        "plt.tight_layout()\n",
        "\n",
        "plt.show()"
      ],
      "metadata": {
        "id": "ePR2QdY51IEm"
      },
      "execution_count": null,
      "outputs": []
    },
    {
      "cell_type": "code",
      "source": [
        "# Analyze the top apps based on screen time and break down the average usage, notifications, and times opened per app\n",
        "\n",
        "app_analysis = data.groupby('App').agg(\n",
        "    avg_usage=('Usage (minutes)', 'mean'),\n",
        "    avg_notifications=('Notifications', 'mean'),\n",
        "    avg_times_opened=('Times Opened', 'mean')\n",
        ").reset_index()\n",
        "\n",
        "app_analysis = app_analysis.sort_values(by='avg_usage', ascending=False)\n",
        "\n",
        "app_analysis"
      ],
      "metadata": {
        "id": "b2GGVK1B1lTH"
      },
      "execution_count": null,
      "outputs": []
    },
    {
      "cell_type": "code",
      "source": [
        "# Have a look at the average screen time of the user by day of the week\n",
        "\n",
        "data['Day of Week'] = data['Date'].dt.day_name()\n",
        "\n",
        "weekly_usage = data.groupby('Day of Week')['Usage (minutes)'].mean().reindex(\n",
        "    ['Monday', 'Tuesday', 'Wednesday', 'Thursday', 'Friday', 'Saturday', 'Sunday'])\n",
        "\n",
        "plt.figure(figsize=(6, 6))\n",
        "\n",
        "ax = sns.barplot(x=weekly_usage.index, y=weekly_usage.values, palette=\"crest\")\n",
        "\n",
        "for p in ax.patches:\n",
        "    ax.annotate(format(p.get_height(), '.1f'),\n",
        "                (p.get_x() + p.get_width() / 2., p.get_height()),\n",
        "                ha = 'center', va = 'center',\n",
        "                xytext = (0, 9), textcoords = 'offset points')\n",
        "\n",
        "plt.title('Average Screen Time Usage per Day of the Week', fontsize=16)\n",
        "plt.ylabel('Average Usage (minutes)', fontsize=12)\n",
        "plt.xlabel('Day of the Week', fontsize=12)\n",
        "plt.xticks(rotation=45, fontsize=10)\n",
        "plt.yticks(fontsize=10)\n",
        "\n",
        "plt.tight_layout()\n",
        "plt.show()"
      ],
      "metadata": {
        "id": "rrv-cJJUX-Ln"
      },
      "execution_count": null,
      "outputs": []
    },
    {
      "cell_type": "code",
      "source": [
        "# Analyze the daily patterns for the top three apps: Instagram, Netflix, and WhatsApp\n",
        "\n",
        "top_apps_data = data[data['App'].isin(['Instagram', 'Netflix', 'WhatsApp'])]\n",
        "\n",
        "daily_app_usage = top_apps_data.groupby(['App', 'Day of Week'])['Usage (minutes)'].mean().reindex(\n",
        "    pd.MultiIndex.from_product([['Instagram', 'Netflix', 'WhatsApp'],\n",
        "                                ['Monday', 'Tuesday', 'Wednesday', 'Thursday', 'Friday', 'Saturday', 'Sunday']],\n",
        "                               names=['App', 'Day of Week'])).reset_index()\n",
        "\n",
        "plt.figure(figsize=(6, 6))\n",
        "\n",
        "ax = sns.barplot(x='Day of Week', y='Usage (minutes)', hue='App', data=daily_app_usage, palette='Set2')\n",
        "\n",
        "for p in ax.patches:\n",
        "    height = p.get_height()\n",
        "    if height > 0:\n",
        "        ax.annotate(f'{height:.1f}',\n",
        "                    (p.get_x() + p.get_width() / 2., height),\n",
        "                    ha='center', va='center',\n",
        "                    xytext=(0, 8), textcoords='offset points')\n",
        "\n",
        "plt.title('Average Daily Usage for Instagram, Netflix, and WhatsApp', fontsize=16)\n",
        "plt.ylabel('Average Usage (minutes)', fontsize=12)\n",
        "plt.xlabel('Day of the Week', fontsize=12)\n",
        "plt.xticks(rotation=45, fontsize=10)\n",
        "plt.yticks(fontsize=10)\n",
        "plt.legend(title='App', fontsize=10, title_fontsize=12)\n",
        "\n",
        "plt.tight_layout()\n",
        "plt.show()"
      ],
      "metadata": {
        "id": "3Nvw-fvyZe44"
      },
      "execution_count": null,
      "outputs": []
    },
    {
      "cell_type": "code",
      "source": [
        "# Calculating the Probability of App Openings Through Notifications\n",
        "\n",
        "notifications_data = data[data['Notifications'] > 0]\n",
        "\n",
        "app_opened_when_notif = notifications_data.groupby('App').apply(\n",
        "    lambda x: (x['Times Opened'] > 0).sum() / len(x)\n",
        ").reset_index(name='Probability of Open with Notification')\n",
        "\n",
        "app_opened_when_notif"
      ],
      "metadata": {
        "id": "Rscm6o3mZzwv"
      },
      "execution_count": null,
      "outputs": []
    }
  ]
}